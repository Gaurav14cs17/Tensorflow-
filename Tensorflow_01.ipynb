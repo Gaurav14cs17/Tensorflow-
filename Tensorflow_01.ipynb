{
 "cells": [
  {
   "cell_type": "code",
   "execution_count": 19,
   "metadata": {},
   "outputs": [],
   "source": [
    "import tensorflow as tf\n",
    "import numpy as np"
   ]
  },
  {
   "cell_type": "code",
   "execution_count": 21,
   "metadata": {},
   "outputs": [],
   "source": [
    "X_data = np.random.rand(100).astype(np.float32)\n",
    "Y_data = X_data*(0.1) + 0.3     "
   ]
  },
  {
   "cell_type": "code",
   "execution_count": 22,
   "metadata": {},
   "outputs": [
    {
     "data": {
      "text/plain": [
       "array([0.27485716, 0.39899352, 0.88815314, 0.36714357, 0.33064643,\n",
       "       0.8651438 , 0.12170397, 0.93507034, 0.5476256 , 0.2838679 ,\n",
       "       0.9741386 , 0.48243183, 0.13117668, 0.8373465 , 0.8407555 ,\n",
       "       0.07552068, 0.8018209 , 0.1826697 , 0.03561562, 0.6113287 ,\n",
       "       0.66053545, 0.73732644, 0.5496809 , 0.43953624, 0.73204595,\n",
       "       0.9655489 , 0.8562079 , 0.53090745, 0.2082468 , 0.48586524,\n",
       "       0.48157555, 0.58333933, 0.681334  , 0.501156  , 0.70445615,\n",
       "       0.90707564, 0.8402199 , 0.9846259 , 0.36512163, 0.8605812 ,\n",
       "       0.50926936, 0.7172217 , 0.8109385 , 0.35071117, 0.91484237,\n",
       "       0.30785   , 0.84753156, 0.6412373 , 0.4550145 , 0.05491285,\n",
       "       0.76447654, 0.77676374, 0.8322699 , 0.6711296 , 0.87268275,\n",
       "       0.4917456 , 0.40027007, 0.76580817, 0.16400148, 0.8273304 ,\n",
       "       0.9474975 , 0.8915656 , 0.77334654, 0.6155077 , 0.68056744,\n",
       "       0.82876515, 0.8728543 , 0.22409242, 0.11542404, 0.44653472,\n",
       "       0.8729391 , 0.9263697 , 0.49215016, 0.90809524, 0.60243493,\n",
       "       0.40826178, 0.25498286, 0.0160982 , 0.16907032, 0.4655459 ,\n",
       "       0.9581035 , 0.41572592, 0.6616045 , 0.48510957, 0.5585149 ,\n",
       "       0.7056104 , 0.02927313, 0.31114674, 0.44939107, 0.9380018 ,\n",
       "       0.675876  , 0.29743928, 0.72588974, 0.87212235, 0.86923766,\n",
       "       0.11554236, 0.76186955, 0.60015213, 0.74547315, 0.65397537],\n",
       "      dtype=float32)"
      ]
     },
     "execution_count": 22,
     "metadata": {},
     "output_type": "execute_result"
    }
   ],
   "source": [
    "X_data"
   ]
  },
  {
   "cell_type": "code",
   "execution_count": 23,
   "metadata": {},
   "outputs": [
    {
     "data": {
      "text/plain": [
       "array([0.32748574, 0.33989936, 0.38881534, 0.33671436, 0.33306465,\n",
       "       0.3865144 , 0.31217042, 0.39350706, 0.35476258, 0.3283868 ,\n",
       "       0.39741388, 0.3482432 , 0.31311768, 0.38373467, 0.38407558,\n",
       "       0.30755207, 0.3801821 , 0.318267  , 0.30356157, 0.3611329 ,\n",
       "       0.36605355, 0.37373266, 0.3549681 , 0.34395364, 0.37320462,\n",
       "       0.3965549 , 0.3856208 , 0.35309076, 0.32082468, 0.34858653,\n",
       "       0.34815755, 0.35833395, 0.36813343, 0.3501156 , 0.37044564,\n",
       "       0.39070758, 0.384022  , 0.3984626 , 0.33651218, 0.38605815,\n",
       "       0.35092694, 0.3717222 , 0.38109386, 0.33507112, 0.39148426,\n",
       "       0.330785  , 0.38475317, 0.36412376, 0.34550145, 0.3054913 ,\n",
       "       0.37644768, 0.3776764 , 0.383227  , 0.36711296, 0.3872683 ,\n",
       "       0.34917456, 0.34002703, 0.37658083, 0.31640017, 0.38273305,\n",
       "       0.39474976, 0.38915658, 0.37733465, 0.36155078, 0.36805677,\n",
       "       0.38287652, 0.38728544, 0.32240924, 0.31154242, 0.3446535 ,\n",
       "       0.38729393, 0.39263698, 0.34921503, 0.39080954, 0.3602435 ,\n",
       "       0.34082618, 0.32549828, 0.30160984, 0.31690705, 0.3465546 ,\n",
       "       0.39581037, 0.3415726 , 0.36616045, 0.34851098, 0.3558515 ,\n",
       "       0.37056106, 0.30292732, 0.33111468, 0.3449391 , 0.3938002 ,\n",
       "       0.36758763, 0.32974395, 0.372589  , 0.38721225, 0.3869238 ,\n",
       "       0.31155425, 0.37618697, 0.3600152 , 0.37454733, 0.36539754],\n",
       "      dtype=float32)"
      ]
     },
     "execution_count": 23,
     "metadata": {},
     "output_type": "execute_result"
    }
   ],
   "source": [
    "Y_data"
   ]
  },
  {
   "cell_type": "code",
   "execution_count": 25,
   "metadata": {},
   "outputs": [],
   "source": [
    "Weights = tf.Variable(tf.random_uniform([1],-1.0,1.0))\n",
    "biases = tf.Variable(tf.zeros([1]))    "
   ]
  },
  {
   "cell_type": "code",
   "execution_count": 27,
   "metadata": {},
   "outputs": [],
   "source": [
    "y = X_data*Weights + biases\n",
    "loss = tf.reduce_mean(tf.square(y - Y_data))\n",
    "optimizer = tf.train.GradientDescentOptimizer(0.5)\n",
    "train = optimizer.minimize(loss)"
   ]
  },
  {
   "cell_type": "code",
   "execution_count": 29,
   "metadata": {},
   "outputs": [
    {
     "name": "stdout",
     "output_type": "stream",
     "text": [
      "WARNING:tensorflow:From C:\\Users\\JZ\\AppData\\Local\\Continuum\\anaconda3\\lib\\site-packages\\tensorflow\\python\\util\\tf_should_use.py:118: initialize_all_variables (from tensorflow.python.ops.variables) is deprecated and will be removed after 2017-03-02.\n",
      "Instructions for updating:\n",
      "Use `tf.global_variables_initializer` instead.\n"
     ]
    }
   ],
   "source": [
    "init = tf.initialize_all_variables()\n",
    "sess = tf.Session()\n",
    "sess.run(init)"
   ]
  },
  {
   "cell_type": "code",
   "execution_count": 31,
   "metadata": {},
   "outputs": [
    {
     "name": "stdout",
     "output_type": "stream",
     "text": [
      "0 [-0.33538347] [0.4660485]\n",
      "20 [-0.02942822] [0.38010818]\n",
      "40 [0.05694756] [0.32664683]\n",
      "60 [0.08567924] [0.3088637]\n",
      "80 [0.09523641] [0.3029484]\n",
      "100 [0.09841546] [0.30098075]\n",
      "120 [0.09947292] [0.30032623]\n",
      "140 [0.09982468] [0.30010852]\n",
      "160 [0.09994168] [0.3000361]\n",
      "180 [0.09998062] [0.30001202]\n",
      "200 [0.09999357] [0.300004]\n"
     ]
    }
   ],
   "source": [
    "for step in range(201):\n",
    "    sess.run(train)\n",
    "    if step%20 == 0:\n",
    "        print(step , sess.run(Weights) , sess.run(biases))"
   ]
  },
  {
   "cell_type": "code",
   "execution_count": null,
   "metadata": {},
   "outputs": [],
   "source": []
  }
 ],
 "metadata": {
  "celltoolbar": "Raw Cell Format",
  "kernelspec": {
   "display_name": "Python 3",
   "language": "python",
   "name": "python3"
  },
  "language_info": {
   "codemirror_mode": {
    "name": "ipython",
    "version": 3
   },
   "file_extension": ".py",
   "mimetype": "text/x-python",
   "name": "python",
   "nbconvert_exporter": "python",
   "pygments_lexer": "ipython3",
   "version": "3.5.5"
  },
  "widgets": {
   "state": {},
   "version": "1.1.2"
  }
 },
 "nbformat": 4,
 "nbformat_minor": 2
}
